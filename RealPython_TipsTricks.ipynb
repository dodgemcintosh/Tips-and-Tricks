{
 "cells": [
  {
   "cell_type": "code",
   "execution_count": 3,
   "metadata": {},
   "outputs": [
    {
     "data": {
      "text/plain": [
       "{'a': 1, 'b': 3, 'c': 4}"
      ]
     },
     "execution_count": 3,
     "metadata": {},
     "output_type": "execute_result"
    }
   ],
   "source": [
    "# How to merge two dictionaries\n",
    "# in Python 3.5+\n",
    "\n",
    "x = {'a': 1, 'b': 2}\n",
    "y = {'b': 3, 'c': 4}\n",
    "z = {**x, **y}\n",
    "\n",
    "z"
   ]
  },
  {
   "cell_type": "code",
   "execution_count": 2,
   "metadata": {},
   "outputs": [
    {
     "name": "stdout",
     "output_type": "stream",
     "text": [
      "passed\n",
      "passed\n",
      "passed\n",
      "passed\n"
     ]
    }
   ],
   "source": [
    "# Different ways to test multiple\n",
    "# flags at once in Python\n",
    "x, y, z = 0, 1, 0\n",
    "\n",
    "if x == 1 or y == 1 or z == 1:\n",
    "    print('passed')\n",
    "\n",
    "if 1 in (x, y, z):\n",
    "    print('passed')\n",
    "\n",
    "# These only test for truthiness:\n",
    "if x or y or z:\n",
    "    print('passed')\n",
    "\n",
    "if any((x, y, z)):\n",
    "    print('passed')"
   ]
  },
  {
   "cell_type": "code",
   "execution_count": 5,
   "metadata": {},
   "outputs": [
    {
     "data": {
      "text/plain": [
       "[('d', 1), ('c', 2), ('b', 3), ('a', 4)]"
      ]
     },
     "execution_count": 5,
     "metadata": {},
     "output_type": "execute_result"
    }
   ],
   "source": [
    "# How to sort a Python dict by value\n",
    "# (== get a representation sorted by value)\n",
    "\n",
    "xs = {'a': 4, 'b': 3, 'c': 2, 'd': 1}\n",
    "\n",
    "sorted(xs.items(), key=lambda x: x[1])"
   ]
  },
  {
   "cell_type": "code",
   "execution_count": 6,
   "metadata": {},
   "outputs": [
    {
     "data": {
      "text/plain": [
       "[('d', 1), ('c', 2), ('b', 3), ('a', 4)]"
      ]
     },
     "execution_count": 6,
     "metadata": {},
     "output_type": "execute_result"
    }
   ],
   "source": [
    "# Or:\n",
    "\n",
    "import operator\n",
    "sorted(xs.items(), key=operator.itemgetter(1))"
   ]
  },
  {
   "cell_type": "markdown",
   "metadata": {},
   "source": [
    "#### Finding the most common elements in an iterable"
   ]
  },
  {
   "cell_type": "code",
   "execution_count": 1,
   "metadata": {},
   "outputs": [],
   "source": [
    "import collections"
   ]
  },
  {
   "cell_type": "code",
   "execution_count": 2,
   "metadata": {},
   "outputs": [
    {
     "data": {
      "text/plain": [
       "Counter({'a': 3,\n",
       "         'b': 1,\n",
       "         'c': 1,\n",
       "         'd': 2,\n",
       "         'e': 4,\n",
       "         'g': 2,\n",
       "         'h': 1,\n",
       "         'i': 1,\n",
       "         'l': 2,\n",
       "         'm': 2,\n",
       "         'n': 2,\n",
       "         'o': 2,\n",
       "         'r': 1,\n",
       "         's': 3,\n",
       "         't': 2,\n",
       "         'y': 1})"
      ]
     },
     "execution_count": 2,
     "metadata": {},
     "output_type": "execute_result"
    }
   ],
   "source": [
    "c = collections.Counter('dodgemcintoshatgeneralassembly')\n",
    "c"
   ]
  },
  {
   "cell_type": "code",
   "execution_count": 3,
   "metadata": {},
   "outputs": [
    {
     "data": {
      "text/plain": [
       "[('e', 4), ('s', 3), ('a', 3)]"
      ]
     },
     "execution_count": 3,
     "metadata": {},
     "output_type": "execute_result"
    }
   ],
   "source": [
    "c.most_common(3)"
   ]
  },
  {
   "cell_type": "markdown",
   "metadata": {},
   "source": [
    "#### Random Python list slice syntax fun"
   ]
  },
  {
   "cell_type": "code",
   "execution_count": 4,
   "metadata": {},
   "outputs": [
    {
     "data": {
      "text/plain": [
       "[]"
      ]
     },
     "execution_count": 4,
     "metadata": {},
     "output_type": "execute_result"
    }
   ],
   "source": [
    "# Clearing all elements from a list\n",
    "lst = [1,2,3,4]\n",
    "del lst[:]\n",
    "lst"
   ]
  },
  {
   "cell_type": "code",
   "execution_count": 10,
   "metadata": {},
   "outputs": [
    {
     "name": "stdout",
     "output_type": "stream",
     "text": [
      "lst: [7, 8, 9]\n",
      "a: [7, 8, 9]\n",
      "a is lst: True\n"
     ]
    }
   ],
   "source": [
    "# Replacing all elements of a list without creating a new list object\n",
    "a = lst\n",
    "lst[:] = [7,8,9]\n",
    "print('lst:',lst)\n",
    "print('a:',a)\n",
    "print('a is lst:',a is lst)"
   ]
  },
  {
   "cell_type": "code",
   "execution_count": 11,
   "metadata": {},
   "outputs": [
    {
     "name": "stdout",
     "output_type": "stream",
     "text": [
      "b: [7, 8, 9]\n",
      "b is lst: False\n"
     ]
    }
   ],
   "source": [
    "# Creating a (shallow) copy of a list\n",
    "b = lst[:]\n",
    "print('b:',b)\n",
    "print('b is lst:', b is lst)"
   ]
  },
  {
   "cell_type": "markdown",
   "metadata": {},
   "source": [
    "#### List comprehensions"
   ]
  },
  {
   "cell_type": "code",
   "execution_count": 13,
   "metadata": {},
   "outputs": [],
   "source": [
    "vals = [expression\n",
    "       for value in collection\n",
    "       if condition]\n",
    "\n",
    "# This is equivalent to:\n",
    "\n",
    "vals = []\n",
    "for value in collection:\n",
    "    if condition:\n",
    "        vals.append(expression)"
   ]
  },
  {
   "cell_type": "code",
   "execution_count": 15,
   "metadata": {},
   "outputs": [
    {
     "data": {
      "text/plain": [
       "[0, 4, 16, 36, 64, 100]"
      ]
     },
     "execution_count": 15,
     "metadata": {},
     "output_type": "execute_result"
    }
   ],
   "source": [
    "# Example:\n",
    "\n",
    "even_squares = [x * x for x in range(11) if not x % 2]\n",
    "even_squares"
   ]
  },
  {
   "cell_type": "markdown",
   "metadata": {},
   "source": [
    "#### Itertools permutations"
   ]
  },
  {
   "cell_type": "code",
   "execution_count": 2,
   "metadata": {},
   "outputs": [
    {
     "name": "stdout",
     "output_type": "stream",
     "text": [
      "('A', 'B', 'C', 'D')\n",
      "('A', 'B', 'D', 'C')\n",
      "('A', 'C', 'B', 'D')\n",
      "('A', 'C', 'D', 'B')\n",
      "('A', 'D', 'B', 'C')\n",
      "('A', 'D', 'C', 'B')\n",
      "('B', 'A', 'C', 'D')\n",
      "('B', 'A', 'D', 'C')\n",
      "('B', 'C', 'A', 'D')\n",
      "('B', 'C', 'D', 'A')\n",
      "('B', 'D', 'A', 'C')\n",
      "('B', 'D', 'C', 'A')\n",
      "('C', 'A', 'B', 'D')\n",
      "('C', 'A', 'D', 'B')\n",
      "('C', 'B', 'A', 'D')\n",
      "('C', 'B', 'D', 'A')\n",
      "('C', 'D', 'A', 'B')\n",
      "('C', 'D', 'B', 'A')\n",
      "('D', 'A', 'B', 'C')\n",
      "('D', 'A', 'C', 'B')\n",
      "('D', 'B', 'A', 'C')\n",
      "('D', 'B', 'C', 'A')\n",
      "('D', 'C', 'A', 'B')\n",
      "('D', 'C', 'B', 'A')\n"
     ]
    }
   ],
   "source": [
    "# itertools.permutations() generates permutations for an iterable.\n",
    "\n",
    "import itertools\n",
    "for p in itertools.permutations('ABCD'):\n",
    "    print (p)"
   ]
  },
  {
   "cell_type": "code",
   "execution_count": null,
   "metadata": {},
   "outputs": [],
   "source": []
  }
 ],
 "metadata": {
  "kernelspec": {
   "display_name": "Python 3",
   "language": "python",
   "name": "python3"
  },
  "language_info": {
   "codemirror_mode": {
    "name": "ipython",
    "version": 3
   },
   "file_extension": ".py",
   "mimetype": "text/x-python",
   "name": "python",
   "nbconvert_exporter": "python",
   "pygments_lexer": "ipython3",
   "version": "3.6.3"
  }
 },
 "nbformat": 4,
 "nbformat_minor": 2
}
